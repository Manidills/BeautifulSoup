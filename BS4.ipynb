{
  "nbformat": 4,
  "nbformat_minor": 0,
  "metadata": {
    "colab": {
      "name": "BS4",
      "provenance": [],
      "collapsed_sections": []
    },
    "kernelspec": {
      "name": "python3",
      "display_name": "Python 3"
    },
    "accelerator": "TPU"
  },
  "cells": [
    {
      "cell_type": "code",
      "metadata": {
        "id": "4y5zNHXOugAE",
        "colab_type": "code",
        "colab": {}
      },
      "source": [
        "import requests\n",
        "from bs4 import BeautifulSoup\n",
        "import csv"
      ],
      "execution_count": 0,
      "outputs": []
    },
    {
      "cell_type": "code",
      "metadata": {
        "id": "pFJcEPbzxE-M",
        "colab_type": "code",
        "colab": {}
      },
      "source": [
        "page=requests.get('https://www.bbc.com/sport/football/46897172')"
      ],
      "execution_count": 0,
      "outputs": []
    },
    {
      "cell_type": "code",
      "metadata": {
        "id": "bLXwNeS8xKlM",
        "colab_type": "code",
        "colab": {}
      },
      "source": [
        "soup=BeautifulSoup(page.text,'html.parser')"
      ],
      "execution_count": 0,
      "outputs": []
    },
    {
      "cell_type": "code",
      "metadata": {
        "id": "lbfEBHxfyrKV",
        "colab_type": "code",
        "colab": {}
      },
      "source": [
        "repo=soup.find('div', {\"class\": \"story-body sp-story-body gel-body-copy\"})"
      ],
      "execution_count": 0,
      "outputs": []
    },
    {
      "cell_type": "code",
      "metadata": {
        "id": "Q2bQF49D4RUv",
        "colab_type": "code",
        "colab": {
          "base_uri": "https://localhost:8080/",
          "height": 315
        },
        "outputId": "0124645c-4e73-4d45-c331-49523c38175c"
      },
      "source": [
        "print(repo)"
      ],
      "execution_count": 42,
      "outputs": [
        {
          "output_type": "stream",
          "text": [
            "<div class=\"story-body sp-story-body gel-body-copy\" id=\"story-body\"> <figure class=\"sp-media-asset sp-media-asset--lead\"><div class=\"sp-media-asset__body media\">\n",
            "<div class=\"sp-media-asset__image gel-responsive-image\" style=\"padding-bottom:56%\">\n",
            "<img alt=\"Cristiano Ronaldo\" class=\"\" sizes=\"(min-width: 900px) 50vw, (min-width: 600px) 70vw, 100vw\" src=\"https://ichef.bbci.co.uk/onesport/cps/480/cpsprodpb/622B/production/_105213152_gettyimages-1095049028.jpg\" srcset=\"https://ichef.bbci.co.uk/onesport/cps/240/cpsprodpb/622B/production/_105213152_gettyimages-1095049028.jpg 240w, https://ichef.bbci.co.uk/onesport/cps/320/cpsprodpb/622B/production/_105213152_gettyimages-1095049028.jpg 320w, https://ichef.bbci.co.uk/onesport/cps/480/cpsprodpb/622B/production/_105213152_gettyimages-1095049028.jpg 480w, https://ichef.bbci.co.uk/onesport/cps/624/cpsprodpb/622B/production/_105213152_gettyimages-1095049028.jpg 624w, https://ichef.bbci.co.uk/onesport/cps/800/cpsprodpb/622B/production/_105213152_gettyimages-1095049028.jpg 800w\"/></div>\n",
            "</div>\n",
            "<figcaption class=\"sp-media-asset__caption gel-brevier \">Juventus' victory edged them clear of AC Milan who have won the Supercoppa on seven occasions</figcaption></figure><p class=\"sp-story-body__introduction\">Cristiano Ronaldo's header was enough for Juventus to beat AC Milan and claim a record eighth Supercoppa Italiana in a game played in Jeddah, Saudi Arabia.</p><p>The Portugal forward nodded in Miralem Pjanic's lofted pass in the second half to settle a meeting between Italian football's two most successful clubs.</p><p>It was Ronaldo's 16th goal of the season for the Serie A leaders.</p><div aria-hidden=\"true\" class=\"bbccom_slot\" id=\"bbccom_mpu_1_2_3\">\n",
            "<div class=\"bbccom_advert\">\n",
            "<script type=\"text/javascript\">\n",
            "            (function() {\n",
            "                if (window.bbcdotcom && bbcdotcom.adverts && bbcdotcom.adverts.slotAsync) {\n",
            "                    bbcdotcom.adverts.slotAsync(\"mpu\", [1,2,3]);\n",
            "                }\n",
            "            })();\n",
            "        </script>\n",
            "</div>\n",
            "</div><p>Patrick Cutrone hit the crossbar for Milan, who had Ivorian midfielder Franck Kessie sent off.</p><p>Gonzalo Higuain, reportedly the subject of interest from Chelsea, was introduced as a substitute by Milan boss Gennaro Gattuso in Italy's version of the Community Shield.</p><p>But the 31-year-old Argentina forward, who is currently on loan from Juventus, was unable to deliver an equalising goal for the Rossoneri, who were beaten 4-0 by Juve in the Coppa Italia final in May.</p>\n",
            "</div>\n"
          ],
          "name": "stdout"
        }
      ]
    },
    {
      "cell_type": "code",
      "metadata": {
        "id": "78h-Pk7j1I1e",
        "colab_type": "code",
        "colab": {}
      },
      "source": [
        "article=''"
      ],
      "execution_count": 0,
      "outputs": []
    },
    {
      "cell_type": "code",
      "metadata": {
        "id": "c_7soApc2l6I",
        "colab_type": "code",
        "colab": {}
      },
      "source": [
        "for i in repo.find_all('p'):\n",
        "    article=article + ' ' + i.text"
      ],
      "execution_count": 0,
      "outputs": []
    },
    {
      "cell_type": "code",
      "metadata": {
        "id": "sNXc7Dk72-Nz",
        "colab_type": "code",
        "colab": {}
      },
      "source": [
        "with open('scare.txt','w') as file:\n",
        "    file.write(article)"
      ],
      "execution_count": 0,
      "outputs": []
    },
    {
      "cell_type": "code",
      "metadata": {
        "id": "wMVNfsE76AcZ",
        "colab_type": "code",
        "colab": {}
      },
      "source": [
        ""
      ],
      "execution_count": 0,
      "outputs": []
    }
  ]
}